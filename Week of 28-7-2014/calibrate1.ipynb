{
 "cells": [
  {
   "cell_type": "markdown",
   "metadata": {},
   "source": [
    "This loads in resources"
   ]
  },
  {
   "cell_type": "code",
   "execution_count": 18,
   "metadata": {
    "collapsed": true
   },
   "outputs": [],
   "source": [
    "import numpy as np\n",
    "import matplotlib.pyplot as plt\n",
    "%matplotlib notebook"
   ]
  },
  {
   "cell_type": "markdown",
   "metadata": {},
   "source": [
    "Now load the data"
   ]
  },
  {
   "cell_type": "code",
   "execution_count": null,
   "metadata": {
    "collapsed": false
   },
   "outputs": [],
   "source": [
    "datadir = 'Week of 28-7-2014/'\n",
    "blankfilename = datadir + 'blank.txt'\n",
    "obsfilename = datadir + '1ml1.txt'"
   ]
  },
  {
   "cell_type": "code",
   "execution_count": null,
   "metadata": {
    "collapsed": false
   },
   "outputs": [],
   "source": [
    "blankdata = np.genfromtxt(blankfilename)\n",
    "obsdata = np.genfromtxt(obsfilename)\n",
    "wavelen = blankdata[:,0]\n",
    "blank = blankdata[:,1]\n",
    "obs = obsdata[:,1]"
   ]
  },
  {
   "cell_type": "code",
   "execution_count": null,
   "metadata": {
    "collapsed": false
   },
   "outputs": [],
   "source": [
    "# This graphs the intensity data\n",
    "plt.figure()\n",
    "plt.plot(wavelen,blank)\n",
    "plt.plot(wavelen,obs)"
   ]
  },
  {
   "cell_type": "code",
   "execution_count": null,
   "metadata": {
    "collapsed": false
   },
   "outputs": [],
   "source": [
    "# This graphs the absorbance\n",
    "plt.figure()\n",
    "absorbance = -np.log(obs/blank)\n",
    "plt.plot(wavelen,absorbance)"
   ]
  },
  {
   "cell_type": "code",
   "execution_count": null,
   "metadata": {
    "collapsed": false
   },
   "outputs": [],
   "source": [
    "# This graphs the ln(absorbance) vs ln(lambda)\n",
    "plt.figure()\n",
    "subset = [i for i in range(20,100)]\n",
    "plt.plot(np.log(wavelen),np.log(absorbance))\n",
    "plt.plot(np.log(wavelen[subset]),np.log(absorbance[subset]),'o')\n",
    "p = np.polyfit(np.log(wavelen[subset]),np.log(absorbance[subset]),1)\n",
    "print ('slope', p[1])\n",
    "print ('intercept', p[0])\n",
    "theory = np.polyval(p,np.log(wavelen))\n",
    "plt.plot(np.log(wavelen),theory,'g')\n",
    "plt.grid('on')"
   ]
  }
 ],
 "metadata": {
  "kernelspec": {
   "display_name": "Python 2",
   "language": "python",
   "name": "python2"
  },
  "language_info": {
   "codemirror_mode": {
    "name": "ipython",
    "version": 2
   },
   "file_extension": ".py",
   "mimetype": "text/x-python",
   "name": "python",
   "nbconvert_exporter": "python",
   "pygments_lexer": "ipython2",
   "version": "2.7.11"
  }
 },
 "nbformat": 4,
 "nbformat_minor": 0
}
